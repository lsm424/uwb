{
 "cells": [
  {
   "cell_type": "code",
   "execution_count": 1,
   "metadata": {},
   "outputs": [],
   "source": [
    "import pickle\n",
    "d=[]\n",
    "with open(r\"out_file\\2024-07-24_201144\\pickle_file.dat\",'rb') as f:\n",
    "    try:\n",
    "        while True:\n",
    "            d.append(pickle.load(f))\n",
    "    except EOFError:pass"
   ]
  },
  {
   "cell_type": "code",
   "execution_count": 2,
   "metadata": {},
   "outputs": [
    {
     "name": "stderr",
     "output_type": "stream",
     "text": [
      "100%|██████████| 533849/533849 [21:47<00:00, 408.41it/s]\n"
     ]
    }
   ],
   "source": [
    "import time,tqdm,socket\n",
    "s=socket.socket(socket.AF_INET,socket.SOCK_DGRAM,socket.IPPROTO_UDP)\n",
    "T0=time.time()\n",
    "t0 = None\n",
    "for i in tqdm.tqdm(d):\n",
    "    if t0 is None:t0=i['timestampe']\n",
    "    t=i['timestampe']-t0;\n",
    "    T=time.time()-T0;\n",
    "    if(T<t):time.sleep(t-T)\n",
    "    s.sendto(i['raw_data'],(\"127.0.0.1\",9999))"
   ]
  }
 ],
 "metadata": {
  "kernelspec": {
   "display_name": "jupyter",
   "language": "python",
   "name": "python3"
  },
  "language_info": {
   "codemirror_mode": {
    "name": "ipython",
    "version": 3
   },
   "file_extension": ".py",
   "mimetype": "text/x-python",
   "name": "python",
   "nbconvert_exporter": "python",
   "pygments_lexer": "ipython3",
   "version": "3.11.7"
  }
 },
 "nbformat": 4,
 "nbformat_minor": 2
}
